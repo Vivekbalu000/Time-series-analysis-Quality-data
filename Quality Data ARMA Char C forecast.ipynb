{
 "cells": [
  {
   "cell_type": "code",
   "execution_count": 1,
   "id": "0dd9d0f5",
   "metadata": {},
   "outputs": [],
   "source": [
    "import pandas as pd\n",
    "import datetime as dt"
   ]
  },
  {
   "cell_type": "code",
   "execution_count": 2,
   "id": "febce87d",
   "metadata": {},
   "outputs": [],
   "source": [
    "dataset=pd.read_csv(\"Quality data Preprocessed data.csv\")"
   ]
  },
  {
   "cell_type": "code",
   "execution_count": 3,
   "id": "2ebb5bad",
   "metadata": {},
   "outputs": [
    {
     "data": {
      "text/html": [
       "<div>\n",
       "<style scoped>\n",
       "    .dataframe tbody tr th:only-of-type {\n",
       "        vertical-align: middle;\n",
       "    }\n",
       "\n",
       "    .dataframe tbody tr th {\n",
       "        vertical-align: top;\n",
       "    }\n",
       "\n",
       "    .dataframe thead th {\n",
       "        text-align: right;\n",
       "    }\n",
       "</style>\n",
       "<table border=\"1\" class=\"dataframe\">\n",
       "  <thead>\n",
       "    <tr style=\"text-align: right;\">\n",
       "      <th></th>\n",
       "      <th>Product</th>\n",
       "      <th>Time</th>\n",
       "      <th>Equipment</th>\n",
       "      <th>Char A</th>\n",
       "      <th>Char B</th>\n",
       "      <th>Char C</th>\n",
       "      <th>Char D</th>\n",
       "      <th>Char E</th>\n",
       "      <th>Char A6</th>\n",
       "      <th>Char A7</th>\n",
       "      <th>Char A8</th>\n",
       "      <th>Char A9</th>\n",
       "      <th>Char A10</th>\n",
       "      <th>Class</th>\n",
       "    </tr>\n",
       "  </thead>\n",
       "  <tbody>\n",
       "    <tr>\n",
       "      <th>0</th>\n",
       "      <td>Product-1</td>\n",
       "      <td>2022-09-05</td>\n",
       "      <td>B1</td>\n",
       "      <td>82</td>\n",
       "      <td>17</td>\n",
       "      <td>12</td>\n",
       "      <td>126</td>\n",
       "      <td>119</td>\n",
       "      <td>B</td>\n",
       "      <td>C</td>\n",
       "      <td>A</td>\n",
       "      <td>H</td>\n",
       "      <td>H</td>\n",
       "      <td>H</td>\n",
       "    </tr>\n",
       "    <tr>\n",
       "      <th>1</th>\n",
       "      <td>Product-2</td>\n",
       "      <td>2022-09-05</td>\n",
       "      <td>B1</td>\n",
       "      <td>96</td>\n",
       "      <td>13</td>\n",
       "      <td>13</td>\n",
       "      <td>72</td>\n",
       "      <td>42</td>\n",
       "      <td>B</td>\n",
       "      <td>B</td>\n",
       "      <td>A</td>\n",
       "      <td>B</td>\n",
       "      <td>B</td>\n",
       "      <td>B</td>\n",
       "    </tr>\n",
       "    <tr>\n",
       "      <th>2</th>\n",
       "      <td>Product-3</td>\n",
       "      <td>2022-09-05</td>\n",
       "      <td>B1</td>\n",
       "      <td>60</td>\n",
       "      <td>12</td>\n",
       "      <td>13</td>\n",
       "      <td>56</td>\n",
       "      <td>33</td>\n",
       "      <td>B</td>\n",
       "      <td>B</td>\n",
       "      <td>A</td>\n",
       "      <td>B</td>\n",
       "      <td>B</td>\n",
       "      <td>B</td>\n",
       "    </tr>\n",
       "    <tr>\n",
       "      <th>3</th>\n",
       "      <td>Product-4</td>\n",
       "      <td>2022-09-05</td>\n",
       "      <td>B1</td>\n",
       "      <td>53</td>\n",
       "      <td>12</td>\n",
       "      <td>11</td>\n",
       "      <td>45</td>\n",
       "      <td>21</td>\n",
       "      <td>B</td>\n",
       "      <td>B</td>\n",
       "      <td>A</td>\n",
       "      <td>B</td>\n",
       "      <td>A</td>\n",
       "      <td>B</td>\n",
       "    </tr>\n",
       "    <tr>\n",
       "      <th>4</th>\n",
       "      <td>Product-5</td>\n",
       "      <td>2022-09-05</td>\n",
       "      <td>B1</td>\n",
       "      <td>56</td>\n",
       "      <td>12</td>\n",
       "      <td>17</td>\n",
       "      <td>49</td>\n",
       "      <td>26</td>\n",
       "      <td>B</td>\n",
       "      <td>B</td>\n",
       "      <td>B</td>\n",
       "      <td>B</td>\n",
       "      <td>A</td>\n",
       "      <td>B</td>\n",
       "    </tr>\n",
       "    <tr>\n",
       "      <th>...</th>\n",
       "      <td>...</td>\n",
       "      <td>...</td>\n",
       "      <td>...</td>\n",
       "      <td>...</td>\n",
       "      <td>...</td>\n",
       "      <td>...</td>\n",
       "      <td>...</td>\n",
       "      <td>...</td>\n",
       "      <td>...</td>\n",
       "      <td>...</td>\n",
       "      <td>...</td>\n",
       "      <td>...</td>\n",
       "      <td>...</td>\n",
       "      <td>...</td>\n",
       "    </tr>\n",
       "    <tr>\n",
       "      <th>5639</th>\n",
       "      <td>Product-5640</td>\n",
       "      <td>2023-04-20</td>\n",
       "      <td>B1</td>\n",
       "      <td>84</td>\n",
       "      <td>3</td>\n",
       "      <td>14</td>\n",
       "      <td>63</td>\n",
       "      <td>61</td>\n",
       "      <td>B</td>\n",
       "      <td>A</td>\n",
       "      <td>B</td>\n",
       "      <td>B</td>\n",
       "      <td>C</td>\n",
       "      <td>C</td>\n",
       "    </tr>\n",
       "    <tr>\n",
       "      <th>5640</th>\n",
       "      <td>Product-5641</td>\n",
       "      <td>2023-04-20</td>\n",
       "      <td>B4</td>\n",
       "      <td>52</td>\n",
       "      <td>2</td>\n",
       "      <td>12</td>\n",
       "      <td>42</td>\n",
       "      <td>20</td>\n",
       "      <td>B</td>\n",
       "      <td>A</td>\n",
       "      <td>A</td>\n",
       "      <td>B</td>\n",
       "      <td>A</td>\n",
       "      <td>B</td>\n",
       "    </tr>\n",
       "    <tr>\n",
       "      <th>5641</th>\n",
       "      <td>Product-5642</td>\n",
       "      <td>2023-04-20</td>\n",
       "      <td>B4</td>\n",
       "      <td>56</td>\n",
       "      <td>2</td>\n",
       "      <td>9</td>\n",
       "      <td>66</td>\n",
       "      <td>39</td>\n",
       "      <td>B</td>\n",
       "      <td>A</td>\n",
       "      <td>A</td>\n",
       "      <td>B</td>\n",
       "      <td>B</td>\n",
       "      <td>B</td>\n",
       "    </tr>\n",
       "    <tr>\n",
       "      <th>5642</th>\n",
       "      <td>Product-5643</td>\n",
       "      <td>2023-04-20</td>\n",
       "      <td>B1</td>\n",
       "      <td>51</td>\n",
       "      <td>3</td>\n",
       "      <td>13</td>\n",
       "      <td>67</td>\n",
       "      <td>43</td>\n",
       "      <td>B</td>\n",
       "      <td>A</td>\n",
       "      <td>A</td>\n",
       "      <td>B</td>\n",
       "      <td>B</td>\n",
       "      <td>B</td>\n",
       "    </tr>\n",
       "    <tr>\n",
       "      <th>5643</th>\n",
       "      <td>Product-5644</td>\n",
       "      <td>2023-04-20</td>\n",
       "      <td>B1</td>\n",
       "      <td>26</td>\n",
       "      <td>1</td>\n",
       "      <td>9</td>\n",
       "      <td>51</td>\n",
       "      <td>18</td>\n",
       "      <td>A</td>\n",
       "      <td>A</td>\n",
       "      <td>A</td>\n",
       "      <td>B</td>\n",
       "      <td>A</td>\n",
       "      <td>B</td>\n",
       "    </tr>\n",
       "  </tbody>\n",
       "</table>\n",
       "<p>5644 rows × 14 columns</p>\n",
       "</div>"
      ],
      "text/plain": [
       "           Product        Time Equipment  Char A  Char B  Char C  Char D   \n",
       "0        Product-1  2022-09-05        B1      82      17      12     126  \\\n",
       "1        Product-2  2022-09-05        B1      96      13      13      72   \n",
       "2        Product-3  2022-09-05        B1      60      12      13      56   \n",
       "3        Product-4  2022-09-05        B1      53      12      11      45   \n",
       "4        Product-5  2022-09-05        B1      56      12      17      49   \n",
       "...            ...         ...       ...     ...     ...     ...     ...   \n",
       "5639  Product-5640  2023-04-20        B1      84       3      14      63   \n",
       "5640  Product-5641  2023-04-20        B4      52       2      12      42   \n",
       "5641  Product-5642  2023-04-20        B4      56       2       9      66   \n",
       "5642  Product-5643  2023-04-20        B1      51       3      13      67   \n",
       "5643  Product-5644  2023-04-20        B1      26       1       9      51   \n",
       "\n",
       "      Char E Char A6 Char A7 Char A8 Char A9 Char A10 Class  \n",
       "0        119       B       C       A       H        H     H  \n",
       "1         42       B       B       A       B        B     B  \n",
       "2         33       B       B       A       B        B     B  \n",
       "3         21       B       B       A       B        A     B  \n",
       "4         26       B       B       B       B        A     B  \n",
       "...      ...     ...     ...     ...     ...      ...   ...  \n",
       "5639      61       B       A       B       B        C     C  \n",
       "5640      20       B       A       A       B        A     B  \n",
       "5641      39       B       A       A       B        B     B  \n",
       "5642      43       B       A       A       B        B     B  \n",
       "5643      18       A       A       A       B        A     B  \n",
       "\n",
       "[5644 rows x 14 columns]"
      ]
     },
     "execution_count": 3,
     "metadata": {},
     "output_type": "execute_result"
    }
   ],
   "source": [
    "dataset"
   ]
  },
  {
   "cell_type": "code",
   "execution_count": 4,
   "id": "593356ad",
   "metadata": {},
   "outputs": [
    {
     "data": {
      "text/plain": [
       "Index(['Product', 'Time', 'Equipment', 'Char A', 'Char B', 'Char C', 'Char D',\n",
       "       'Char E', 'Char A6', 'Char A7', 'Char A8', 'Char A9', 'Char A10',\n",
       "       'Class'],\n",
       "      dtype='object')"
      ]
     },
     "execution_count": 4,
     "metadata": {},
     "output_type": "execute_result"
    }
   ],
   "source": [
    "dataset.columns"
   ]
  },
  {
   "cell_type": "code",
   "execution_count": 5,
   "id": "64a714ea",
   "metadata": {},
   "outputs": [
    {
     "name": "stdout",
     "output_type": "stream",
     "text": [
      "<class 'pandas.core.frame.DataFrame'>\n",
      "RangeIndex: 5644 entries, 0 to 5643\n",
      "Data columns (total 14 columns):\n",
      " #   Column     Non-Null Count  Dtype \n",
      "---  ------     --------------  ----- \n",
      " 0   Product    5644 non-null   object\n",
      " 1   Time       5644 non-null   object\n",
      " 2   Equipment  5644 non-null   object\n",
      " 3   Char A     5644 non-null   int64 \n",
      " 4   Char B     5644 non-null   int64 \n",
      " 5   Char C     5644 non-null   int64 \n",
      " 6   Char D     5644 non-null   int64 \n",
      " 7   Char E     5644 non-null   int64 \n",
      " 8   Char A6    5644 non-null   object\n",
      " 9   Char A7    5644 non-null   object\n",
      " 10  Char A8    5644 non-null   object\n",
      " 11  Char A9    5644 non-null   object\n",
      " 12  Char A10   5644 non-null   object\n",
      " 13  Class      5644 non-null   object\n",
      "dtypes: int64(5), object(9)\n",
      "memory usage: 617.4+ KB\n"
     ]
    }
   ],
   "source": [
    "dataset.info()\n"
   ]
  },
  {
   "cell_type": "code",
   "execution_count": 6,
   "id": "5379c6ef",
   "metadata": {},
   "outputs": [],
   "source": [
    "dataset['Time']=pd.to_datetime(dataset['Time'])"
   ]
  },
  {
   "cell_type": "code",
   "execution_count": 7,
   "id": "488b99d1",
   "metadata": {},
   "outputs": [
    {
     "name": "stdout",
     "output_type": "stream",
     "text": [
      "<class 'pandas.core.frame.DataFrame'>\n",
      "RangeIndex: 5644 entries, 0 to 5643\n",
      "Data columns (total 14 columns):\n",
      " #   Column     Non-Null Count  Dtype         \n",
      "---  ------     --------------  -----         \n",
      " 0   Product    5644 non-null   object        \n",
      " 1   Time       5644 non-null   datetime64[ns]\n",
      " 2   Equipment  5644 non-null   object        \n",
      " 3   Char A     5644 non-null   int64         \n",
      " 4   Char B     5644 non-null   int64         \n",
      " 5   Char C     5644 non-null   int64         \n",
      " 6   Char D     5644 non-null   int64         \n",
      " 7   Char E     5644 non-null   int64         \n",
      " 8   Char A6    5644 non-null   object        \n",
      " 9   Char A7    5644 non-null   object        \n",
      " 10  Char A8    5644 non-null   object        \n",
      " 11  Char A9    5644 non-null   object        \n",
      " 12  Char A10   5644 non-null   object        \n",
      " 13  Class      5644 non-null   object        \n",
      "dtypes: datetime64[ns](1), int64(5), object(8)\n",
      "memory usage: 617.4+ KB\n"
     ]
    }
   ],
   "source": [
    "dataset.info()"
   ]
  },
  {
   "cell_type": "code",
   "execution_count": 8,
   "id": "90166671",
   "metadata": {},
   "outputs": [],
   "source": [
    "startdate=\"2022-09-05\"\n",
    "enddate=\"2023-04-20\"\n",
    "df=dataset[dataset['Time'].between(startdate,enddate)][['Time', 'Char C']]"
   ]
  },
  {
   "cell_type": "code",
   "execution_count": 9,
   "id": "9025e0d2",
   "metadata": {},
   "outputs": [
    {
     "data": {
      "text/html": [
       "<div>\n",
       "<style scoped>\n",
       "    .dataframe tbody tr th:only-of-type {\n",
       "        vertical-align: middle;\n",
       "    }\n",
       "\n",
       "    .dataframe tbody tr th {\n",
       "        vertical-align: top;\n",
       "    }\n",
       "\n",
       "    .dataframe thead th {\n",
       "        text-align: right;\n",
       "    }\n",
       "</style>\n",
       "<table border=\"1\" class=\"dataframe\">\n",
       "  <thead>\n",
       "    <tr style=\"text-align: right;\">\n",
       "      <th></th>\n",
       "      <th>Time</th>\n",
       "      <th>Char C</th>\n",
       "    </tr>\n",
       "  </thead>\n",
       "  <tbody>\n",
       "    <tr>\n",
       "      <th>0</th>\n",
       "      <td>2022-09-05</td>\n",
       "      <td>12</td>\n",
       "    </tr>\n",
       "    <tr>\n",
       "      <th>1</th>\n",
       "      <td>2022-09-05</td>\n",
       "      <td>13</td>\n",
       "    </tr>\n",
       "    <tr>\n",
       "      <th>2</th>\n",
       "      <td>2022-09-05</td>\n",
       "      <td>13</td>\n",
       "    </tr>\n",
       "    <tr>\n",
       "      <th>3</th>\n",
       "      <td>2022-09-05</td>\n",
       "      <td>11</td>\n",
       "    </tr>\n",
       "    <tr>\n",
       "      <th>4</th>\n",
       "      <td>2022-09-05</td>\n",
       "      <td>17</td>\n",
       "    </tr>\n",
       "    <tr>\n",
       "      <th>...</th>\n",
       "      <td>...</td>\n",
       "      <td>...</td>\n",
       "    </tr>\n",
       "    <tr>\n",
       "      <th>5639</th>\n",
       "      <td>2023-04-20</td>\n",
       "      <td>14</td>\n",
       "    </tr>\n",
       "    <tr>\n",
       "      <th>5640</th>\n",
       "      <td>2023-04-20</td>\n",
       "      <td>12</td>\n",
       "    </tr>\n",
       "    <tr>\n",
       "      <th>5641</th>\n",
       "      <td>2023-04-20</td>\n",
       "      <td>9</td>\n",
       "    </tr>\n",
       "    <tr>\n",
       "      <th>5642</th>\n",
       "      <td>2023-04-20</td>\n",
       "      <td>13</td>\n",
       "    </tr>\n",
       "    <tr>\n",
       "      <th>5643</th>\n",
       "      <td>2023-04-20</td>\n",
       "      <td>9</td>\n",
       "    </tr>\n",
       "  </tbody>\n",
       "</table>\n",
       "<p>5644 rows × 2 columns</p>\n",
       "</div>"
      ],
      "text/plain": [
       "           Time  Char C\n",
       "0    2022-09-05      12\n",
       "1    2022-09-05      13\n",
       "2    2022-09-05      13\n",
       "3    2022-09-05      11\n",
       "4    2022-09-05      17\n",
       "...         ...     ...\n",
       "5639 2023-04-20      14\n",
       "5640 2023-04-20      12\n",
       "5641 2023-04-20       9\n",
       "5642 2023-04-20      13\n",
       "5643 2023-04-20       9\n",
       "\n",
       "[5644 rows x 2 columns]"
      ]
     },
     "execution_count": 9,
     "metadata": {},
     "output_type": "execute_result"
    }
   ],
   "source": [
    "df"
   ]
  },
  {
   "cell_type": "code",
   "execution_count": 10,
   "id": "50eefc9d",
   "metadata": {},
   "outputs": [],
   "source": [
    "column='Char C'"
   ]
  },
  {
   "cell_type": "code",
   "execution_count": 11,
   "id": "48867a84",
   "metadata": {},
   "outputs": [
    {
     "name": "stdout",
     "output_type": "stream",
     "text": [
      "Len: (5644, 1)\n"
     ]
    }
   ],
   "source": [
    "from sklearn.preprocessing import MinMaxScaler\n",
    "Ms=MinMaxScaler()\n",
    "data1=Ms.fit_transform(df[[column]])\n",
    "print(\"Len:\",data1.shape)"
   ]
  },
  {
   "cell_type": "code",
   "execution_count": 12,
   "id": "3b1c4a76",
   "metadata": {},
   "outputs": [
    {
     "data": {
      "text/plain": [
       "5644"
      ]
     },
     "execution_count": 12,
     "metadata": {},
     "output_type": "execute_result"
    }
   ],
   "source": [
    "len(data1)"
   ]
  },
  {
   "cell_type": "code",
   "execution_count": 13,
   "id": "504d78ad",
   "metadata": {},
   "outputs": [
    {
     "name": "stdout",
     "output_type": "stream",
     "text": [
      "4515\n",
      "X_train length: (4515, 1)\n",
      "X_test length: (1129, 1)\n",
      "y_train length: (4515, 1)\n",
      "y_test length: (1129, 1)\n"
     ]
    }
   ],
   "source": [
    "training_size=round(len(data1)*0.80)\n",
    "print(training_size)\n",
    "X_train=data1[:training_size]\n",
    "X_test=data1[training_size:]\n",
    "print(\"X_train length:\",X_train.shape)\n",
    "print(\"X_test length:\",X_test.shape)\n",
    "y_train=data1[:training_size]\n",
    "y_test=data1[training_size:]\n",
    "print(\"y_train length:\",y_train.shape)\n",
    "print(\"y_test length:\",y_test.shape)"
   ]
  },
  {
   "cell_type": "code",
   "execution_count": 14,
   "id": "f908f952",
   "metadata": {},
   "outputs": [],
   "source": [
    "import warnings\n",
    "warnings.filterwarnings(\"ignore\")"
   ]
  },
  {
   "cell_type": "code",
   "execution_count": 15,
   "id": "6bea1490",
   "metadata": {},
   "outputs": [
    {
     "data": {
      "text/plain": [
       "'from statsmodels.tsa.arima.model import ARIMA\\nmodel = ARIMA(data1, order=(1,1,1))#Autoregressive Integrated Moving Average (ARIMA)\\nmodel_fit = model.fit()\\n# make prediction\\ny_pred= model_fit.predict(len(stk_data), len(stk_data)-1)\\nprint(y_pred)\\nfrom stockFunctions import rmsemape\\nrmsemape(stkk,predicted_stock_price_test_oriP[\"Char C\"])'"
      ]
     },
     "execution_count": 15,
     "metadata": {},
     "output_type": "execute_result"
    }
   ],
   "source": [
    "\"\"\"from statsmodels.tsa.arima.model import ARIMA\n",
    "model = ARIMA(data1, order=(1,1,1))#Autoregressive Integrated Moving Average (ARIMA)\n",
    "model_fit = model.fit()\n",
    "# make prediction\n",
    "y_pred= model_fit.predict(len(stk_data), len(stk_data)-1)\n",
    "print(y_pred)\n",
    "from stockFunctions import rmsemape\n",
    "rmsemape(stkk,predicted_stock_price_test_oriP[\"Char C\"])\"\"\""
   ]
  },
  {
   "cell_type": "code",
   "execution_count": 16,
   "id": "9d814acb",
   "metadata": {},
   "outputs": [
    {
     "name": "stdout",
     "output_type": "stream",
     "text": [
      "RMSE-Testset: 0.10114349820770276\n",
      "maPe-Testset: 198704471487.3706\n",
      "RMSE-Testset: 0.10120373391433134\n",
      "maPe-Testset: 196574775372.54663\n",
      "RMSE-Testset: 0.10114071034463232\n",
      "maPe-Testset: 198739221942.7588\n",
      "RMSE-Testset: 0.10120373391433134\n",
      "maPe-Testset: 196574775372.54663\n"
     ]
    }
   ],
   "source": [
    "orders=[(1,0,2),(1,0,1),(2,0,1),(1,0,1)]\n",
    "#orderslist=[]\n",
    "#rscorelist=[]\n",
    "for i in orders:\n",
    "    #orderslist.append(i)\n",
    "    from statsmodels.tsa.arima.model import ARIMA\n",
    "    model = ARIMA(data1, order=i)\n",
    "    model_fit = model.fit()\n",
    "    # make prediction\n",
    "    y_pred= model_fit.predict(0, len(data1)-1)\n",
    "    #print(y_pred)\n",
    "    from stockFunctions import rmsemape\n",
    "    rmsemape(data1,y_pred)"
   ]
  },
  {
   "cell_type": "code",
   "execution_count": 17,
   "id": "daf9da78",
   "metadata": {},
   "outputs": [
    {
     "data": {
      "image/png": "[encoded data removed]",
      "text/plain": [
       "<Figure size 1000x500 with 1 Axes>"
      ]
     },
     "metadata": {},
     "output_type": "display_data"
    }
   ],
   "source": [
    "from stockFunctions import graph\n",
    "graph(data1,y_pred,\"Actual\",\"predicted\",\"Quality data\",\"Time\",\"Char C\")"
   ]
  },
  {
   "cell_type": "code",
   "execution_count": 18,
   "id": "431c461b",
   "metadata": {},
   "outputs": [
    {
     "data": {
      "text/plain": [
       "5644"
      ]
     },
     "execution_count": 18,
     "metadata": {},
     "output_type": "execute_result"
    }
   ],
   "source": [
    "len(data1)"
   ]
  },
  {
   "cell_type": "code",
   "execution_count": 19,
   "id": "318ba302",
   "metadata": {},
   "outputs": [
    {
     "data": {
      "text/plain": [
       "array([[0.3030303 ],\n",
       "       [0.15151515],\n",
       "       [0.15151515],\n",
       "       ...,\n",
       "       [0.15151515],\n",
       "       [0.27272727],\n",
       "       [0.15151515]])"
      ]
     },
     "execution_count": 19,
     "metadata": {},
     "output_type": "execute_result"
    }
   ],
   "source": [
    "y_test"
   ]
  },
  {
   "cell_type": "code",
   "execution_count": 20,
   "id": "37362e57",
   "metadata": {},
   "outputs": [],
   "source": [
    "from stockFunctions import conversionSingle\n",
    "aTestNormTable=conversionSingle(data1,[column])"
   ]
  },
  {
   "cell_type": "code",
   "execution_count": 21,
   "id": "ec1ac355",
   "metadata": {},
   "outputs": [
    {
     "data": {
      "text/html": [
       "<div>\n",
       "<style scoped>\n",
       "    .dataframe tbody tr th:only-of-type {\n",
       "        vertical-align: middle;\n",
       "    }\n",
       "\n",
       "    .dataframe tbody tr th {\n",
       "        vertical-align: top;\n",
       "    }\n",
       "\n",
       "    .dataframe thead th {\n",
       "        text-align: right;\n",
       "    }\n",
       "</style>\n",
       "<table border=\"1\" class=\"dataframe\">\n",
       "  <thead>\n",
       "    <tr style=\"text-align: right;\">\n",
       "      <th></th>\n",
       "      <th>Char C</th>\n",
       "    </tr>\n",
       "  </thead>\n",
       "  <tbody>\n",
       "    <tr>\n",
       "      <th>0</th>\n",
       "      <td>0.242424</td>\n",
       "    </tr>\n",
       "    <tr>\n",
       "      <th>1</th>\n",
       "      <td>0.272727</td>\n",
       "    </tr>\n",
       "    <tr>\n",
       "      <th>2</th>\n",
       "      <td>0.272727</td>\n",
       "    </tr>\n",
       "    <tr>\n",
       "      <th>3</th>\n",
       "      <td>0.212121</td>\n",
       "    </tr>\n",
       "    <tr>\n",
       "      <th>4</th>\n",
       "      <td>0.393939</td>\n",
       "    </tr>\n",
       "    <tr>\n",
       "      <th>...</th>\n",
       "      <td>...</td>\n",
       "    </tr>\n",
       "    <tr>\n",
       "      <th>5639</th>\n",
       "      <td>0.30303</td>\n",
       "    </tr>\n",
       "    <tr>\n",
       "      <th>5640</th>\n",
       "      <td>0.242424</td>\n",
       "    </tr>\n",
       "    <tr>\n",
       "      <th>5641</th>\n",
       "      <td>0.151515</td>\n",
       "    </tr>\n",
       "    <tr>\n",
       "      <th>5642</th>\n",
       "      <td>0.272727</td>\n",
       "    </tr>\n",
       "    <tr>\n",
       "      <th>5643</th>\n",
       "      <td>0.151515</td>\n",
       "    </tr>\n",
       "  </tbody>\n",
       "</table>\n",
       "<p>5644 rows × 1 columns</p>\n",
       "</div>"
      ],
      "text/plain": [
       "        Char C\n",
       "0     0.242424\n",
       "1     0.272727\n",
       "2     0.272727\n",
       "3     0.212121\n",
       "4     0.393939\n",
       "...        ...\n",
       "5639   0.30303\n",
       "5640  0.242424\n",
       "5641  0.151515\n",
       "5642  0.272727\n",
       "5643  0.151515\n",
       "\n",
       "[5644 rows x 1 columns]"
      ]
     },
     "execution_count": 21,
     "metadata": {},
     "output_type": "execute_result"
    }
   ],
   "source": [
    "aTestNormTable"
   ]
  },
  {
   "cell_type": "code",
   "execution_count": 22,
   "id": "a69084fa",
   "metadata": {},
   "outputs": [],
   "source": [
    "actual_stock_price_test_ori=Ms.inverse_transform(aTestNormTable)"
   ]
  },
  {
   "cell_type": "code",
   "execution_count": 23,
   "id": "45388ab8",
   "metadata": {},
   "outputs": [
    {
     "data": {
      "text/plain": [
       "array([[12.],\n",
       "       [13.],\n",
       "       [13.],\n",
       "       ...,\n",
       "       [ 9.],\n",
       "       [13.],\n",
       "       [ 9.]])"
      ]
     },
     "execution_count": 23,
     "metadata": {},
     "output_type": "execute_result"
    }
   ],
   "source": [
    "actual_stock_price_test_ori"
   ]
  },
  {
   "cell_type": "code",
   "execution_count": 24,
   "id": "c6514b27",
   "metadata": {},
   "outputs": [],
   "source": [
    "actual_stock_price_test_oriA=conversionSingle(actual_stock_price_test_ori,[column])"
   ]
  },
  {
   "cell_type": "code",
   "execution_count": 25,
   "id": "3b33fac3",
   "metadata": {},
   "outputs": [
    {
     "data": {
      "text/html": [
       "<div>\n",
       "<style scoped>\n",
       "    .dataframe tbody tr th:only-of-type {\n",
       "        vertical-align: middle;\n",
       "    }\n",
       "\n",
       "    .dataframe tbody tr th {\n",
       "        vertical-align: top;\n",
       "    }\n",
       "\n",
       "    .dataframe thead th {\n",
       "        text-align: right;\n",
       "    }\n",
       "</style>\n",
       "<table border=\"1\" class=\"dataframe\">\n",
       "  <thead>\n",
       "    <tr style=\"text-align: right;\">\n",
       "      <th></th>\n",
       "      <th>Char C</th>\n",
       "    </tr>\n",
       "  </thead>\n",
       "  <tbody>\n",
       "    <tr>\n",
       "      <th>0</th>\n",
       "      <td>12.0</td>\n",
       "    </tr>\n",
       "    <tr>\n",
       "      <th>1</th>\n",
       "      <td>13.0</td>\n",
       "    </tr>\n",
       "    <tr>\n",
       "      <th>2</th>\n",
       "      <td>13.0</td>\n",
       "    </tr>\n",
       "    <tr>\n",
       "      <th>3</th>\n",
       "      <td>11.0</td>\n",
       "    </tr>\n",
       "    <tr>\n",
       "      <th>4</th>\n",
       "      <td>17.0</td>\n",
       "    </tr>\n",
       "    <tr>\n",
       "      <th>...</th>\n",
       "      <td>...</td>\n",
       "    </tr>\n",
       "    <tr>\n",
       "      <th>5639</th>\n",
       "      <td>14.0</td>\n",
       "    </tr>\n",
       "    <tr>\n",
       "      <th>5640</th>\n",
       "      <td>12.0</td>\n",
       "    </tr>\n",
       "    <tr>\n",
       "      <th>5641</th>\n",
       "      <td>9.0</td>\n",
       "    </tr>\n",
       "    <tr>\n",
       "      <th>5642</th>\n",
       "      <td>13.0</td>\n",
       "    </tr>\n",
       "    <tr>\n",
       "      <th>5643</th>\n",
       "      <td>9.0</td>\n",
       "    </tr>\n",
       "  </tbody>\n",
       "</table>\n",
       "<p>5644 rows × 1 columns</p>\n",
       "</div>"
      ],
      "text/plain": [
       "     Char C\n",
       "0      12.0\n",
       "1      13.0\n",
       "2      13.0\n",
       "3      11.0\n",
       "4      17.0\n",
       "...     ...\n",
       "5639   14.0\n",
       "5640   12.0\n",
       "5641    9.0\n",
       "5642   13.0\n",
       "5643    9.0\n",
       "\n",
       "[5644 rows x 1 columns]"
      ]
     },
     "execution_count": 25,
     "metadata": {},
     "output_type": "execute_result"
    }
   ],
   "source": [
    "actual_stock_price_test_oriA"
   ]
  },
  {
   "cell_type": "code",
   "execution_count": 26,
   "id": "f10d1b20",
   "metadata": {},
   "outputs": [],
   "source": [
    "from stockFunctions import conversionSingle\n",
    "aTestNormTable=conversionSingle(data1,[column])\n",
    "actual_stock_price_test_ori=Ms.inverse_transform(aTestNormTable)\n",
    "actual_stock_price_test_oriA=conversionSingle(actual_stock_price_test_ori,[column])"
   ]
  },
  {
   "cell_type": "code",
   "execution_count": 27,
   "id": "952c140f",
   "metadata": {},
   "outputs": [],
   "source": [
    "from stockFunctions import conversionSingle\n",
    "pTestNormTable=conversionSingle(y_pred,[column])\n",
    "predicted_stock_price_test_ori=Ms.inverse_transform(pTestNormTable)\n",
    "predicted_stock_price_test_oriP=conversionSingle(predicted_stock_price_test_ori,[column])"
   ]
  },
  {
   "cell_type": "code",
   "execution_count": 28,
   "id": "0da923b6",
   "metadata": {},
   "outputs": [
    {
     "data": {
      "image/png": "[encoded data removed]",
      "text/plain": [
       "<Figure size 1000x500 with 1 Axes>"
      ]
     },
     "metadata": {},
     "output_type": "display_data"
    }
   ],
   "source": [
    "from stockFunctions import graph\n",
    "graph(actual_stock_price_test_oriA,predicted_stock_price_test_oriP,\"Actual\",\"Predicted\",\"Quality data\",\"Time\",\"Char C\")"
   ]
  },
  {
   "cell_type": "code",
   "execution_count": 29,
   "id": "2e6c9410",
   "metadata": {},
   "outputs": [
    {
     "name": "stdout",
     "output_type": "stream",
     "text": [
      "RMSE-Testset: 3.3397232191729342\n",
      "maPe-Testset: 0.21045479810199866\n"
     ]
    }
   ],
   "source": [
    "from stockFunctions import rmsemape\n",
    "rmsemape(actual_stock_price_test_oriA,predicted_stock_price_test_oriP)"
   ]
  },
  {
   "cell_type": "code",
   "execution_count": 30,
   "id": "0723e1d3",
   "metadata": {},
   "outputs": [],
   "source": [
    "forecast=model_fit.predict(len(data1), len(data1)+10)"
   ]
  },
  {
   "cell_type": "code",
   "execution_count": 31,
   "id": "b8c9c694",
   "metadata": {},
   "outputs": [
    {
     "data": {
      "text/plain": [
       "array([0.19402858, 0.19421901, 0.19440895, 0.19459837, 0.19478729,\n",
       "       0.19497571, 0.19516363, 0.19535105, 0.19553797, 0.19572439,\n",
       "       0.19591031])"
      ]
     },
     "execution_count": 31,
     "metadata": {},
     "output_type": "execute_result"
    }
   ],
   "source": [
    "forecast"
   ]
  },
  {
   "cell_type": "code",
   "execution_count": 32,
   "id": "d5ecfdb8",
   "metadata": {},
   "outputs": [],
   "source": [
    "from stockFunctions import conversionSingle\n",
    "fTestNormTable=conversionSingle(forecast,[\"CharEfore\"])\n",
    "forecast_stock_price_test_ori=Ms.inverse_transform(fTestNormTable)\n",
    "forecast_stock_price_test_oriF=conversionSingle(forecast_stock_price_test_ori,[\"CharEfore\"])"
   ]
  },
  {
   "cell_type": "code",
   "execution_count": 33,
   "id": "f811ca2d",
   "metadata": {},
   "outputs": [
    {
     "data": {
      "text/html": [
       "<div>\n",
       "<style scoped>\n",
       "    .dataframe tbody tr th:only-of-type {\n",
       "        vertical-align: middle;\n",
       "    }\n",
       "\n",
       "    .dataframe tbody tr th {\n",
       "        vertical-align: top;\n",
       "    }\n",
       "\n",
       "    .dataframe thead th {\n",
       "        text-align: right;\n",
       "    }\n",
       "</style>\n",
       "<table border=\"1\" class=\"dataframe\">\n",
       "  <thead>\n",
       "    <tr style=\"text-align: right;\">\n",
       "      <th></th>\n",
       "      <th>CharEfore</th>\n",
       "    </tr>\n",
       "  </thead>\n",
       "  <tbody>\n",
       "    <tr>\n",
       "      <th>0</th>\n",
       "      <td>10.402943</td>\n",
       "    </tr>\n",
       "    <tr>\n",
       "      <th>1</th>\n",
       "      <td>10.409227</td>\n",
       "    </tr>\n",
       "    <tr>\n",
       "      <th>2</th>\n",
       "      <td>10.415495</td>\n",
       "    </tr>\n",
       "    <tr>\n",
       "      <th>3</th>\n",
       "      <td>10.421746</td>\n",
       "    </tr>\n",
       "    <tr>\n",
       "      <th>4</th>\n",
       "      <td>10.427981</td>\n",
       "    </tr>\n",
       "    <tr>\n",
       "      <th>5</th>\n",
       "      <td>10.434198</td>\n",
       "    </tr>\n",
       "    <tr>\n",
       "      <th>6</th>\n",
       "      <td>10.4404</td>\n",
       "    </tr>\n",
       "    <tr>\n",
       "      <th>7</th>\n",
       "      <td>10.446585</td>\n",
       "    </tr>\n",
       "    <tr>\n",
       "      <th>8</th>\n",
       "      <td>10.452753</td>\n",
       "    </tr>\n",
       "    <tr>\n",
       "      <th>9</th>\n",
       "      <td>10.458905</td>\n",
       "    </tr>\n",
       "    <tr>\n",
       "      <th>10</th>\n",
       "      <td>10.46504</td>\n",
       "    </tr>\n",
       "  </tbody>\n",
       "</table>\n",
       "</div>"
      ],
      "text/plain": [
       "    CharEfore\n",
       "0   10.402943\n",
       "1   10.409227\n",
       "2   10.415495\n",
       "3   10.421746\n",
       "4   10.427981\n",
       "5   10.434198\n",
       "6     10.4404\n",
       "7   10.446585\n",
       "8   10.452753\n",
       "9   10.458905\n",
       "10   10.46504"
      ]
     },
     "execution_count": 33,
     "metadata": {},
     "output_type": "execute_result"
    }
   ],
   "source": [
    "forecast_stock_price_test_oriF"
   ]
  },
  {
   "cell_type": "code",
   "execution_count": null,
   "id": "1a52285c",
   "metadata": {},
   "outputs": [],
   "source": []
  },
  {
   "cell_type": "code",
   "execution_count": null,
   "id": "7becb72a",
   "metadata": {},
   "outputs": [],
   "source": []
  }
 ],
 "metadata": {
  "kernelspec": {
   "display_name": "Python 3 (ipykernel)",
   "language": "python",
   "name": "python3"
  },
  "language_info": {
   "codemirror_mode": {
    "name": "ipython",
    "version": 3
   },
   "file_extension": ".py",
   "mimetype": "text/x-python",
   "name": "python",
   "nbconvert_exporter": "python",
   "pygments_lexer": "ipython3",
   "version": "3.11.3"
  }
 },
 "nbformat": 4,
 "nbformat_minor": 5
}
